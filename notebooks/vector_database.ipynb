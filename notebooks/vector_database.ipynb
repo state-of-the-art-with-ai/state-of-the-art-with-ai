{
 "cells": [
  {
   "cell_type": "code",
   "execution_count": null,
   "id": "initial_id",
   "metadata": {
    "collapsed": true
   },
   "outputs": [],
   "source": [
    ""
   ]
  },
  {
   "metadata": {
    "ExecuteTime": {
     "end_time": "2024-05-12T09:09:30.469514Z",
     "start_time": "2024-05-12T09:09:30.420498Z"
    }
   },
   "cell_type": "code",
   "source": [
    "from state_of_the_art.recommender.topic_based.searches import SemanticSearch\n",
    "\n",
    "instance = SemanticSearch()._get_chroma_instance()\n",
    "instance.reset()\n"
   ],
   "id": "339c7931196fbd92",
   "outputs": [
    {
     "ename": "ValueError",
     "evalue": "Resetting is not allowed by this configuration (to enable it, set `allow_reset` to `True` in your Settings() or include `ALLOW_RESET=TRUE` in your environment variables)",
     "output_type": "error",
     "traceback": [
      "\u001B[0;31m---------------------------------------------------------------------------\u001B[0m",
      "\u001B[0;31mValueError\u001B[0m                                Traceback (most recent call last)",
      "Cell \u001B[0;32mIn[15], line 4\u001B[0m\n\u001B[1;32m      1\u001B[0m \u001B[38;5;28;01mfrom\u001B[39;00m \u001B[38;5;21;01mstate_of_the_art\u001B[39;00m\u001B[38;5;21;01m.\u001B[39;00m\u001B[38;5;21;01mrecommender\u001B[39;00m\u001B[38;5;21;01m.\u001B[39;00m\u001B[38;5;21;01mtopic_based\u001B[39;00m\u001B[38;5;21;01m.\u001B[39;00m\u001B[38;5;21;01msearches\u001B[39;00m \u001B[38;5;28;01mimport\u001B[39;00m SemanticSearch\n\u001B[1;32m      3\u001B[0m instance \u001B[38;5;241m=\u001B[39m SemanticSearch()\u001B[38;5;241m.\u001B[39m_get_chroma_instance()\n\u001B[0;32m----> 4\u001B[0m \u001B[43minstance\u001B[49m\u001B[38;5;241;43m.\u001B[39;49m\u001B[43mreset\u001B[49m\u001B[43m(\u001B[49m\u001B[43m)\u001B[49m\n",
      "File \u001B[0;32m~/Library/Caches/pypoetry/virtualenvs/state-of-the-art-SdbSa9GM-py3.12/lib/python3.12/site-packages/chromadb/api/client.py:406\u001B[0m, in \u001B[0;36mClient.reset\u001B[0;34m(self)\u001B[0m\n\u001B[1;32m    404\u001B[0m \u001B[38;5;129m@override\u001B[39m\n\u001B[1;32m    405\u001B[0m \u001B[38;5;28;01mdef\u001B[39;00m \u001B[38;5;21mreset\u001B[39m(\u001B[38;5;28mself\u001B[39m) \u001B[38;5;241m-\u001B[39m\u001B[38;5;241m>\u001B[39m \u001B[38;5;28mbool\u001B[39m:\n\u001B[0;32m--> 406\u001B[0m     \u001B[38;5;28;01mreturn\u001B[39;00m \u001B[38;5;28;43mself\u001B[39;49m\u001B[38;5;241;43m.\u001B[39;49m\u001B[43m_server\u001B[49m\u001B[38;5;241;43m.\u001B[39;49m\u001B[43mreset\u001B[49m\u001B[43m(\u001B[49m\u001B[43m)\u001B[49m\n",
      "File \u001B[0;32m~/Library/Caches/pypoetry/virtualenvs/state-of-the-art-SdbSa9GM-py3.12/lib/python3.12/site-packages/chromadb/api/segment.py:787\u001B[0m, in \u001B[0;36mSegmentAPI.reset\u001B[0;34m(self)\u001B[0m\n\u001B[1;32m    785\u001B[0m \u001B[38;5;129m@override\u001B[39m\n\u001B[1;32m    786\u001B[0m \u001B[38;5;28;01mdef\u001B[39;00m \u001B[38;5;21mreset\u001B[39m(\u001B[38;5;28mself\u001B[39m) \u001B[38;5;241m-\u001B[39m\u001B[38;5;241m>\u001B[39m \u001B[38;5;28mbool\u001B[39m:\n\u001B[0;32m--> 787\u001B[0m     \u001B[38;5;28;43mself\u001B[39;49m\u001B[38;5;241;43m.\u001B[39;49m\u001B[43m_system\u001B[49m\u001B[38;5;241;43m.\u001B[39;49m\u001B[43mreset_state\u001B[49m\u001B[43m(\u001B[49m\u001B[43m)\u001B[49m\n\u001B[1;32m    788\u001B[0m     \u001B[38;5;28;01mreturn\u001B[39;00m \u001B[38;5;28;01mTrue\u001B[39;00m\n",
      "File \u001B[0;32m~/Library/Caches/pypoetry/virtualenvs/state-of-the-art-SdbSa9GM-py3.12/lib/python3.12/site-packages/chromadb/config.py:434\u001B[0m, in \u001B[0;36mSystem.reset_state\u001B[0;34m(self)\u001B[0m\n\u001B[1;32m    432\u001B[0m \u001B[38;5;250m\u001B[39m\u001B[38;5;124;03m\"\"\"Reset the state of this system and all constituents in reverse dependency order\"\"\"\u001B[39;00m\n\u001B[1;32m    433\u001B[0m \u001B[38;5;28;01mif\u001B[39;00m \u001B[38;5;129;01mnot\u001B[39;00m \u001B[38;5;28mself\u001B[39m\u001B[38;5;241m.\u001B[39msettings\u001B[38;5;241m.\u001B[39mallow_reset:\n\u001B[0;32m--> 434\u001B[0m     \u001B[38;5;28;01mraise\u001B[39;00m \u001B[38;5;167;01mValueError\u001B[39;00m(\n\u001B[1;32m    435\u001B[0m         \u001B[38;5;124m\"\u001B[39m\u001B[38;5;124mResetting is not allowed by this configuration (to enable it, set `allow_reset` to `True` in your Settings() or include `ALLOW_RESET=TRUE` in your environment variables)\u001B[39m\u001B[38;5;124m\"\u001B[39m\n\u001B[1;32m    436\u001B[0m     )\n\u001B[1;32m    437\u001B[0m \u001B[38;5;28;01mfor\u001B[39;00m component \u001B[38;5;129;01min\u001B[39;00m \u001B[38;5;28mreversed\u001B[39m(\u001B[38;5;28mlist\u001B[39m(\u001B[38;5;28mself\u001B[39m\u001B[38;5;241m.\u001B[39mcomponents())):\n\u001B[1;32m    438\u001B[0m     component\u001B[38;5;241m.\u001B[39mreset_state()\n",
      "\u001B[0;31mValueError\u001B[0m: Resetting is not allowed by this configuration (to enable it, set `allow_reset` to `True` in your Settings() or include `ALLOW_RESET=TRUE` in your environment variables)"
     ]
    }
   ],
   "execution_count": 15
  },
  {
   "metadata": {
    "ExecuteTime": {
     "end_time": "2024-05-12T09:09:02.234070Z",
     "start_time": "2024-05-12T09:08:58.518145Z"
    }
   },
   "cell_type": "code",
   "source": [
    "from state_of_the_art.paper.papers_data import PapersDataLoader\n",
    "\n",
    "existing_ids = instance.get_collection('papers').get()['ids']\n",
    "papers = PapersDataLoader().get_all_papers()\n",
    "missing_papers = [paper for paper in papers if paper.abstract_url not in existing_ids]"
   ],
   "id": "9824eb03ccb8b521",
   "outputs": [
    {
     "data": {
      "text/plain": [
       "16104"
      ]
     },
     "execution_count": 14,
     "metadata": {},
     "output_type": "execute_result"
    }
   ],
   "execution_count": 14
  }
 ],
 "metadata": {
  "kernelspec": {
   "display_name": "Python 3",
   "language": "python",
   "name": "python3"
  },
  "language_info": {
   "codemirror_mode": {
    "name": "ipython",
    "version": 2
   },
   "file_extension": ".py",
   "mimetype": "text/x-python",
   "name": "python",
   "nbconvert_exporter": "python",
   "pygments_lexer": "ipython2",
   "version": "2.7.6"
  }
 },
 "nbformat": 4,
 "nbformat_minor": 5
}
