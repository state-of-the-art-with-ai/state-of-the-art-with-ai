{
 "cells": [
  {
   "cell_type": "code",
   "id": "initial_id",
   "metadata": {
    "collapsed": true,
    "ExecuteTime": {
     "end_time": "2024-05-19T01:58:17.913567Z",
     "start_time": "2024-05-19T01:58:16.238375Z"
    }
   },
   "source": [
    "from llama_index.llms.ollama import Ollama\n",
    "llm = Ollama(model=\"mistral\")\n",
    "\n",
    "result = llm.complete(\"What is the sentiment of this sentence: The situation surrounding the video assistant referee is at crisis point.\")\n",
    "\n",
    "\n",
    "print(result)"
   ],
   "outputs": [
    {
     "name": "stdout",
     "output_type": "stream",
     "text": [
      " The sentiment of the sentence \"The situation surrounding the video assistant referee is at crisis point\" can be interpreted as negative, as it implies that there is a critical or dire state of affairs regarding the use of video assistant referees in sports.\n"
     ]
    }
   ],
   "execution_count": 21
  }
 ],
 "metadata": {
  "kernelspec": {
   "display_name": "Python 3",
   "language": "python",
   "name": "python3"
  },
  "language_info": {
   "codemirror_mode": {
    "name": "ipython",
    "version": 2
   },
   "file_extension": ".py",
   "mimetype": "text/x-python",
   "name": "python",
   "nbconvert_exporter": "python",
   "pygments_lexer": "ipython2",
   "version": "2.7.6"
  }
 },
 "nbformat": 4,
 "nbformat_minor": 5
}
