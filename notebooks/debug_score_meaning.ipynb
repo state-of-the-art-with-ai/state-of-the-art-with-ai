{
 "cells": [
  {
   "cell_type": "code",
   "execution_count": 5,
   "metadata": {},
   "outputs": [
    {
     "name": "stdout",
     "output_type": "stream",
     "text": [
      "4\n",
      "3\n",
      "2\n",
      "1\n",
      "0\n"
     ]
    }
   ],
   "source": [
    "\n",
    "from state_of_the_art.tables.text_feedback_table import ScoreMeaning\n",
    "\n",
    "for i in ScoreMeaning:\n",
    "    print(i.value)\n",
    "\n",
    "values = [i.value for i in ScoreMeaning]"
   ]
  },
  {
   "cell_type": "code",
   "execution_count": 13,
   "metadata": {},
   "outputs": [
    {
     "data": {
      "text/plain": [
       "'adsfadfasdfasd'"
      ]
     },
     "execution_count": 13,
     "metadata": {},
     "output_type": "execute_result"
    }
   ],
   "source": [
    "x =  'ads fad fas dfasd'\n",
    "keep_alphanum = \"\".join([i for i in input_str if i.isalnum()])\n",
    "\n",
    "keep_alphanum"
   ]
  }
 ],
 "metadata": {
  "kernelspec": {
   "display_name": "python312",
   "language": "python",
   "name": "python3"
  },
  "language_info": {
   "codemirror_mode": {
    "name": "ipython",
    "version": 3
   },
   "file_extension": ".py",
   "mimetype": "text/x-python",
   "name": "python",
   "nbconvert_exporter": "python",
   "pygments_lexer": "ipython3",
   "version": "3.12.1"
  }
 },
 "nbformat": 4,
 "nbformat_minor": 2
}
