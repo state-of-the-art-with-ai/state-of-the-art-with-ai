{
 "cells": [
  {
   "metadata": {
    "ExecuteTime": {
     "end_time": "2024-05-10T19:49:28.973238Z",
     "start_time": "2024-05-10T19:49:28.964320Z"
    }
   },
   "cell_type": "code",
   "source": [
    "from tiny_data_warehouse import DataWarehouse\n",
    "\n",
    "tdw = DataWarehouse()\n",
    "\n",
    "df = tdw.event('sota_paper_insight')\n",
    "filtered = df[(df['abstract_url'] == 'http://arxiv.org/abs/1904.05526v2') & ~(df['pdf_path'].isnull())]\n",
    "\n",
    "filtered['abstract_url'].values[0]"
   ],
   "id": "ee66329d3735347b",
   "outputs": [
    {
     "data": {
      "text/plain": [
       "'http://arxiv.org/abs/1904.05526v2'"
      ]
     },
     "execution_count": 26,
     "metadata": {},
     "output_type": "execute_result"
    }
   ],
   "execution_count": 26
  },
  {
   "cell_type": "code",
   "id": "initial_id",
   "metadata": {
    "collapsed": true,
    "ExecuteTime": {
     "end_time": "2024-05-10T19:48:51.759321Z",
     "start_time": "2024-05-10T19:48:51.753923Z"
    }
   },
   "source": [
    "\n",
    "df[(df['abstract_url'] == 'http://arxiv.org/abs/1904.05526v2') & ~(df['pdf_path'].isnull())].empty"
   ],
   "outputs": [
    {
     "data": {
      "text/plain": [
       "False"
      ]
     },
     "execution_count": 22,
     "metadata": {},
     "output_type": "execute_result"
    }
   ],
   "execution_count": 22
  }
 ],
 "metadata": {
  "kernelspec": {
   "display_name": "Python 3",
   "language": "python",
   "name": "python3"
  },
  "language_info": {
   "codemirror_mode": {
    "name": "ipython",
    "version": 2
   },
   "file_extension": ".py",
   "mimetype": "text/x-python",
   "name": "python",
   "nbconvert_exporter": "python",
   "pygments_lexer": "ipython2",
   "version": "2.7.6"
  }
 },
 "nbformat": 4,
 "nbformat_minor": 5
}
