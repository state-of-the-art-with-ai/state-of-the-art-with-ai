{
 "cells": [
  {
   "cell_type": "code",
   "id": "initial_id",
   "metadata": {
    "collapsed": true,
    "ExecuteTime": {
     "end_time": "2024-04-04T21:01:33.086888Z",
     "start_time": "2024-04-04T21:01:32.802540Z"
    }
   },
   "source": [
    "from tiny_data_wharehouse.data_wharehouse import DataWharehouse\n",
    "tdw = DataWharehouse()\n",
    "\n",
    "df = tdw.event('bookmarked_paper')\n",
    "df"
   ],
   "outputs": [
    {
     "data": {
      "text/plain": [
       "                            paper_url  \\\n",
       "0   http://arxiv.org/abs/2403.19289v1   \n",
       "0  https://arxiv.org/abs/2403.18958v1   \n",
       "0   http://arxiv.org/abs/2404.02717v1   \n",
       "\n",
       "  great use case of graph neuyral nets to predict outcomes without experiments  \\\n",
       "0  great use case of graph neuyral nets to predic...                             \n",
       "0                                               None                             \n",
       "0                                               None                             \n",
       "\n",
       "  bookmarked_date              tdw_timestamp  \\\n",
       "0      2024-03-31 2024-03-31 19:19:37.760454   \n",
       "0      2024-03-31 2024-03-31 19:41:39.535660   \n",
       "0      2024-04-04 2024-04-04 13:00:54.476186   \n",
       "\n",
       "  paper to share iwth meghana and mlp a list of best practices for llms  \\\n",
       "0                                               None                      \n",
       "0  paper to share iwth meghana and mlp a list of ...                      \n",
       "0                                               None                      \n",
       "\n",
       "  automatic prompt generation will be a bigger focus on the future, they do it in this paper by clustering the training data and then using a llm to generate a prompt for that cluster  \n",
       "0                                               None                                                                                                                                     \n",
       "0                                               None                                                                                                                                     \n",
       "0  automatic prompt generation will be a bigger f...                                                                                                                                     "
      ],
      "text/html": [
       "<div>\n",
       "<style scoped>\n",
       "    .dataframe tbody tr th:only-of-type {\n",
       "        vertical-align: middle;\n",
       "    }\n",
       "\n",
       "    .dataframe tbody tr th {\n",
       "        vertical-align: top;\n",
       "    }\n",
       "\n",
       "    .dataframe thead th {\n",
       "        text-align: right;\n",
       "    }\n",
       "</style>\n",
       "<table border=\"1\" class=\"dataframe\">\n",
       "  <thead>\n",
       "    <tr style=\"text-align: right;\">\n",
       "      <th></th>\n",
       "      <th>paper_url</th>\n",
       "      <th>great use case of graph neuyral nets to predict outcomes without experiments</th>\n",
       "      <th>bookmarked_date</th>\n",
       "      <th>tdw_timestamp</th>\n",
       "      <th>paper to share iwth meghana and mlp a list of best practices for llms</th>\n",
       "      <th>automatic prompt generation will be a bigger focus on the future, they do it in this paper by clustering the training data and then using a llm to generate a prompt for that cluster</th>\n",
       "    </tr>\n",
       "  </thead>\n",
       "  <tbody>\n",
       "    <tr>\n",
       "      <th>0</th>\n",
       "      <td>http://arxiv.org/abs/2403.19289v1</td>\n",
       "      <td>great use case of graph neuyral nets to predic...</td>\n",
       "      <td>2024-03-31</td>\n",
       "      <td>2024-03-31 19:19:37.760454</td>\n",
       "      <td>None</td>\n",
       "      <td>None</td>\n",
       "    </tr>\n",
       "    <tr>\n",
       "      <th>0</th>\n",
       "      <td>https://arxiv.org/abs/2403.18958v1</td>\n",
       "      <td>None</td>\n",
       "      <td>2024-03-31</td>\n",
       "      <td>2024-03-31 19:41:39.535660</td>\n",
       "      <td>paper to share iwth meghana and mlp a list of ...</td>\n",
       "      <td>None</td>\n",
       "    </tr>\n",
       "    <tr>\n",
       "      <th>0</th>\n",
       "      <td>http://arxiv.org/abs/2404.02717v1</td>\n",
       "      <td>None</td>\n",
       "      <td>2024-04-04</td>\n",
       "      <td>2024-04-04 13:00:54.476186</td>\n",
       "      <td>None</td>\n",
       "      <td>automatic prompt generation will be a bigger f...</td>\n",
       "    </tr>\n",
       "  </tbody>\n",
       "</table>\n",
       "</div>"
      ]
     },
     "execution_count": 1,
     "metadata": {},
     "output_type": "execute_result"
    }
   ],
   "execution_count": 1
  },
  {
   "metadata": {},
   "cell_type": "code",
   "outputs": [],
   "execution_count": null,
   "source": "df = tdw.event('paper_bookmarks')\n",
   "id": "27c5ded0b9b4e7a5"
  }
 ],
 "metadata": {
  "kernelspec": {
   "display_name": "Python 3",
   "language": "python",
   "name": "python3"
  },
  "language_info": {
   "codemirror_mode": {
    "name": "ipython",
    "version": 2
   },
   "file_extension": ".py",
   "mimetype": "text/x-python",
   "name": "python",
   "nbconvert_exporter": "python",
   "pygments_lexer": "ipython2",
   "version": "2.7.6"
  }
 },
 "nbformat": 4,
 "nbformat_minor": 5
}
