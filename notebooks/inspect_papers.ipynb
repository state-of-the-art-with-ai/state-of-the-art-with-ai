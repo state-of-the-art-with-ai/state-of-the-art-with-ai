{
 "cells": [
  {
   "cell_type": "code",
   "execution_count": 2,
   "id": "initial_id",
   "metadata": {
    "ExecuteTime": {
     "end_time": "2024-06-07T15:42:45.450432Z",
     "start_time": "2024-06-07T15:42:45.072441Z"
    },
    "collapsed": true
   },
   "outputs": [
    {
     "data": {
      "text/plain": [
       "'https://engineering.hellofresh.com/rethinking-customer-lifetime-value-using-machine-learning-at-hellofresh-208f35eadcda'"
      ]
     },
     "execution_count": 2,
     "metadata": {},
     "output_type": "execute_result"
    },
    {
     "ename": "",
     "evalue": "",
     "output_type": "error",
     "traceback": [
      "\u001b[1;31mThe Kernel crashed while executing code in the current cell or a previous cell. \n",
      "\u001b[1;31mPlease review the code in the cell(s) to identify a possible cause of the failure. \n",
      "\u001b[1;31mClick <a href='https://aka.ms/vscodeJupyterKernelCrash'>here</a> for more info. \n",
      "\u001b[1;31mView Jupyter <a href='command:jupyter.viewOutput'>log</a> for further details."
     ]
    }
   ],
   "source": [
    "from tiny_data_warehouse import DataWarehouse\n",
    "tdw = DataWarehouse()\n",
    "df = tdw.event('arxiv_papers')\n",
    "df = df.sort_values('tdw_timestamp', ascending=False)\n",
    "df.iloc[0].to_dict()['abstract_url']"
   ]
  },
  {
   "cell_type": "code",
   "execution_count": 6,
   "id": "554f53af",
   "metadata": {},
   "outputs": [
    {
     "data": {
      "text/html": [
       "<div>\n",
       "<style scoped>\n",
       "    .dataframe tbody tr th:only-of-type {\n",
       "        vertical-align: middle;\n",
       "    }\n",
       "\n",
       "    .dataframe tbody tr th {\n",
       "        vertical-align: top;\n",
       "    }\n",
       "\n",
       "    .dataframe thead th {\n",
       "        text-align: right;\n",
       "    }\n",
       "</style>\n",
       "<table border=\"1\" class=\"dataframe\">\n",
       "  <thead>\n",
       "    <tr style=\"text-align: right;\">\n",
       "      <th></th>\n",
       "      <th>abstract_url</th>\n",
       "      <th>published</th>\n",
       "      <th>title</th>\n",
       "      <th>abstract</th>\n",
       "      <th>tdw_timestamp</th>\n",
       "      <th>tdw_uuid</th>\n",
       "      <th>pdf_url</th>\n",
       "    </tr>\n",
       "  </thead>\n",
       "  <tbody>\n",
       "    <tr>\n",
       "      <th>0</th>\n",
       "      <td>http://arxiv.org/abs/2409.02069</td>\n",
       "      <td>2024-09-03 17:16:01+00:00</td>\n",
       "      <td>A Deployed Online Reinforcement Learning Algor...</td>\n",
       "      <td>Dental disease is a prevalent chronic conditio...</td>\n",
       "      <td>2024-09-04 16:10:53.523720</td>\n",
       "      <td>51c1f36a-73ef-4ec9-94ef-4a420692c20f</td>\n",
       "      <td>https://arxiv.org/pdf/2409.02069.pdf</td>\n",
       "    </tr>\n",
       "    <tr>\n",
       "      <th>0</th>\n",
       "      <td>http://arxiv.org/abs/2408.12409</td>\n",
       "      <td>2024-08-22 13:58:55+00:00</td>\n",
       "      <td>Multi-Source Knowledge-Based Hybrid Neural Fra...</td>\n",
       "      <td>Accurately predicting the behavior of complex ...</td>\n",
       "      <td>2024-08-23 20:57:48.107274</td>\n",
       "      <td>f24eecdd-1331-4445-a5d8-81b5137e43d7</td>\n",
       "      <td>https://arxiv.org/pdf/2408.12409.pdf</td>\n",
       "    </tr>\n",
       "    <tr>\n",
       "      <th>0</th>\n",
       "      <td>https://arxiv.org/abs/2407.12409</td>\n",
       "      <td>2024-07-17 08:40:05+00:00</td>\n",
       "      <td>Modified gravity in the presence of matter cre...</td>\n",
       "      <td>We consider a dynamic scenario for characteriz...</td>\n",
       "      <td>2024-07-23 13:02:42.491693</td>\n",
       "      <td>None</td>\n",
       "      <td>None</td>\n",
       "    </tr>\n",
       "    <tr>\n",
       "      <th>0</th>\n",
       "      <td>https://arxiv.org/abs/2406.12409</td>\n",
       "      <td>2024-06-18 08:58:59+00:00</td>\n",
       "      <td>Translation Equivariant Transformer Neural Pro...</td>\n",
       "      <td>The effectiveness of neural processes (NPs) in...</td>\n",
       "      <td>2024-06-19 14:36:07.304756</td>\n",
       "      <td>None</td>\n",
       "      <td>None</td>\n",
       "    </tr>\n",
       "  </tbody>\n",
       "</table>\n",
       "</div>"
      ],
      "text/plain": [
       "                       abstract_url                 published  \\\n",
       "0   http://arxiv.org/abs/2409.02069 2024-09-03 17:16:01+00:00   \n",
       "0   http://arxiv.org/abs/2408.12409 2024-08-22 13:58:55+00:00   \n",
       "0  https://arxiv.org/abs/2407.12409 2024-07-17 08:40:05+00:00   \n",
       "0  https://arxiv.org/abs/2406.12409 2024-06-18 08:58:59+00:00   \n",
       "\n",
       "                                               title  \\\n",
       "0  A Deployed Online Reinforcement Learning Algor...   \n",
       "0  Multi-Source Knowledge-Based Hybrid Neural Fra...   \n",
       "0  Modified gravity in the presence of matter cre...   \n",
       "0  Translation Equivariant Transformer Neural Pro...   \n",
       "\n",
       "                                            abstract  \\\n",
       "0  Dental disease is a prevalent chronic conditio...   \n",
       "0  Accurately predicting the behavior of complex ...   \n",
       "0  We consider a dynamic scenario for characteriz...   \n",
       "0  The effectiveness of neural processes (NPs) in...   \n",
       "\n",
       "               tdw_timestamp                              tdw_uuid  \\\n",
       "0 2024-09-04 16:10:53.523720  51c1f36a-73ef-4ec9-94ef-4a420692c20f   \n",
       "0 2024-08-23 20:57:48.107274  f24eecdd-1331-4445-a5d8-81b5137e43d7   \n",
       "0 2024-07-23 13:02:42.491693                                  None   \n",
       "0 2024-06-19 14:36:07.304756                                  None   \n",
       "\n",
       "                                pdf_url  \n",
       "0  https://arxiv.org/pdf/2409.02069.pdf  \n",
       "0  https://arxiv.org/pdf/2408.12409.pdf  \n",
       "0                                  None  \n",
       "0                                  None  "
      ]
     },
     "execution_count": 6,
     "metadata": {},
     "output_type": "execute_result"
    }
   ],
   "source": [
    "\n",
    "df[df['abstract_url'].str.contains('2409')]"
   ]
  },
  {
   "cell_type": "code",
   "execution_count": 11,
   "id": "90ff352b",
   "metadata": {},
   "outputs": [],
   "source": []
  },
  {
   "cell_type": "code",
   "execution_count": 8,
   "id": "3c31eafb",
   "metadata": {},
   "outputs": [
    {
     "data": {
      "text/plain": [
       "33197"
      ]
     },
     "execution_count": 8,
     "metadata": {},
     "output_type": "execute_result"
    }
   ],
   "source": [
    "\n"
   ]
  },
  {
   "cell_type": "code",
   "execution_count": 4,
   "id": "73c2686b",
   "metadata": {},
   "outputs": [
    {
     "data": {
      "text/html": [
       "<div>\n",
       "<style scoped>\n",
       "    .dataframe tbody tr th:only-of-type {\n",
       "        vertical-align: middle;\n",
       "    }\n",
       "\n",
       "    .dataframe tbody tr th {\n",
       "        vertical-align: top;\n",
       "    }\n",
       "\n",
       "    .dataframe thead th {\n",
       "        text-align: right;\n",
       "    }\n",
       "</style>\n",
       "<table border=\"1\" class=\"dataframe\">\n",
       "  <thead>\n",
       "    <tr style=\"text-align: right;\">\n",
       "      <th></th>\n",
       "      <th>url</th>\n",
       "      <th>pdf_url</th>\n",
       "      <th>abstract_url</th>\n",
       "      <th>published</th>\n",
       "      <th>title</th>\n",
       "      <th>abstract</th>\n",
       "      <th>tdw_timestamp</th>\n",
       "      <th>tdw_uuid</th>\n",
       "    </tr>\n",
       "  </thead>\n",
       "  <tbody>\n",
       "    <tr>\n",
       "      <th>0</th>\n",
       "      <td>https://arxiv.org/abs/2202.13868</td>\n",
       "      <td>https://arxiv.org/abs/2202.13868.pdf</td>\n",
       "      <td>https://arxiv.org/abs/2202.13868</td>\n",
       "      <td>2022-02-23 01:15:54+00:00</td>\n",
       "      <td>A Real-World Implementation of Unbiased Lift-b...</td>\n",
       "      <td>In display ad auctions of Real-Time Bid-ding (...</td>\n",
       "      <td>2024-05-24 07:21:48.797128</td>\n",
       "      <td>None</td>\n",
       "    </tr>\n",
       "  </tbody>\n",
       "</table>\n",
       "</div>"
      ],
      "text/plain": [
       "                                url                               pdf_url  \\\n",
       "0  https://arxiv.org/abs/2202.13868  https://arxiv.org/abs/2202.13868.pdf   \n",
       "\n",
       "                       abstract_url                 published  \\\n",
       "0  https://arxiv.org/abs/2202.13868 2022-02-23 01:15:54+00:00   \n",
       "\n",
       "                                               title  \\\n",
       "0  A Real-World Implementation of Unbiased Lift-b...   \n",
       "\n",
       "                                            abstract  \\\n",
       "0  In display ad auctions of Real-Time Bid-ding (...   \n",
       "\n",
       "               tdw_timestamp tdw_uuid  \n",
       "0 2024-05-24 07:21:48.797128     None  "
      ]
     },
     "execution_count": 4,
     "metadata": {},
     "output_type": "execute_result"
    }
   ],
   "source": [
    "df = df[df['url'].str.contains('2202.13868')]\n",
    "df"
   ]
  },
  {
   "cell_type": "code",
   "execution_count": null,
   "id": "c9a8408d",
   "metadata": {},
   "outputs": [],
   "source": []
  },
  {
   "cell_type": "code",
   "execution_count": null,
   "id": "9138512c",
   "metadata": {},
   "outputs": [],
   "source": []
  },
  {
   "cell_type": "code",
   "execution_count": null,
   "id": "155d2bc1",
   "metadata": {},
   "outputs": [],
   "source": []
  },
  {
   "cell_type": "code",
   "execution_count": 2,
   "id": "6a46d4ef",
   "metadata": {},
   "outputs": [
    {
     "data": {
      "text/html": [
       "<div>\n",
       "<style scoped>\n",
       "    .dataframe tbody tr th:only-of-type {\n",
       "        vertical-align: middle;\n",
       "    }\n",
       "\n",
       "    .dataframe tbody tr th {\n",
       "        vertical-align: top;\n",
       "    }\n",
       "\n",
       "    .dataframe thead th {\n",
       "        text-align: right;\n",
       "    }\n",
       "</style>\n",
       "<table border=\"1\" class=\"dataframe\">\n",
       "  <thead>\n",
       "    <tr style=\"text-align: right;\">\n",
       "      <th></th>\n",
       "      <th>url</th>\n",
       "      <th>pdf_url</th>\n",
       "      <th>abstract_url</th>\n",
       "      <th>published</th>\n",
       "      <th>title</th>\n",
       "      <th>abstract</th>\n",
       "      <th>tdw_timestamp</th>\n",
       "      <th>tdw_uuid</th>\n",
       "    </tr>\n",
       "  </thead>\n",
       "  <tbody>\n",
       "    <tr>\n",
       "      <th>0</th>\n",
       "      <td>https://arxiv.org/abs/2407.20183</td>\n",
       "      <td>https://arxiv.org/abs/2407.20183.pdf</td>\n",
       "      <td>https://arxiv.org/abs/2407.20183</td>\n",
       "      <td>2024-07-29 17:12:40+00:00</td>\n",
       "      <td>MindSearch: Mimicking Human Minds Elicits Deep...</td>\n",
       "      <td>Information seeking and integration is a compl...</td>\n",
       "      <td>2024-07-30 11:14:35.643737</td>\n",
       "      <td>804fa414-ceb8-4669-b6f5-5270ad6bbad1</td>\n",
       "    </tr>\n",
       "  </tbody>\n",
       "</table>\n",
       "</div>"
      ],
      "text/plain": [
       "                                url                               pdf_url  \\\n",
       "0  https://arxiv.org/abs/2407.20183  https://arxiv.org/abs/2407.20183.pdf   \n",
       "\n",
       "                       abstract_url                 published  \\\n",
       "0  https://arxiv.org/abs/2407.20183 2024-07-29 17:12:40+00:00   \n",
       "\n",
       "                                               title  \\\n",
       "0  MindSearch: Mimicking Human Minds Elicits Deep...   \n",
       "\n",
       "                                            abstract  \\\n",
       "0  Information seeking and integration is a compl...   \n",
       "\n",
       "               tdw_timestamp                              tdw_uuid  \n",
       "0 2024-07-30 11:14:35.643737  804fa414-ceb8-4669-b6f5-5270ad6bbad1  "
      ]
     },
     "execution_count": 2,
     "metadata": {},
     "output_type": "execute_result"
    }
   ],
   "source": [
    "df[df['url'].str.contains('2407.20183')]"
   ]
  },
  {
   "cell_type": "code",
   "execution_count": 32,
   "id": "3170c7382f233993",
   "metadata": {
    "ExecuteTime": {
     "end_time": "2024-05-12T08:25:42.389426Z",
     "start_time": "2024-05-12T08:25:42.299214Z"
    }
   },
   "outputs": [],
   "source": [
    "#tdw.replace_df('arxiv_papers', df, dry_run=False)"
   ]
  },
  {
   "cell_type": "code",
   "execution_count": 4,
   "id": "ca59e16eeae75d6c",
   "metadata": {
    "ExecuteTime": {
     "end_time": "2024-05-20T05:18:12.725073Z",
     "start_time": "2024-05-20T05:18:12.664108Z"
    }
   },
   "outputs": [
    {
     "data": {
      "text/html": [
       "<div>\n",
       "<style scoped>\n",
       "    .dataframe tbody tr th:only-of-type {\n",
       "        vertical-align: middle;\n",
       "    }\n",
       "\n",
       "    .dataframe tbody tr th {\n",
       "        vertical-align: top;\n",
       "    }\n",
       "\n",
       "    .dataframe thead th {\n",
       "        text-align: right;\n",
       "    }\n",
       "</style>\n",
       "<table border=\"1\" class=\"dataframe\">\n",
       "  <thead>\n",
       "    <tr style=\"text-align: right;\">\n",
       "      <th></th>\n",
       "      <th>title</th>\n",
       "      <th>abstract</th>\n",
       "      <th>url</th>\n",
       "      <th>published</th>\n",
       "      <th>tdw_timestamp</th>\n",
       "    </tr>\n",
       "  </thead>\n",
       "  <tbody>\n",
       "    <tr>\n",
       "      <th>0</th>\n",
       "      <td>A Survey on Large Language Models from Concept...</td>\n",
       "      <td>Recent advancements in Large Language Models (...</td>\n",
       "      <td>https://arxiv.org/abs/2403.18969</td>\n",
       "      <td>2024-03-27 19:35:41+00:00</td>\n",
       "      <td>2024-03-31 16:02:04.808902</td>\n",
       "    </tr>\n",
       "  </tbody>\n",
       "</table>\n",
       "</div>"
      ],
      "text/plain": [
       "                                               title  \\\n",
       "0  A Survey on Large Language Models from Concept...   \n",
       "\n",
       "                                            abstract  \\\n",
       "0  Recent advancements in Large Language Models (...   \n",
       "\n",
       "                                url                 published  \\\n",
       "0  https://arxiv.org/abs/2403.18969 2024-03-27 19:35:41+00:00   \n",
       "\n",
       "               tdw_timestamp  \n",
       "0 2024-03-31 16:02:04.808902  "
      ]
     },
     "execution_count": 4,
     "metadata": {},
     "output_type": "execute_result"
    }
   ],
   "source": [
    "from state_of_the_art.config import config\n",
    "tdw = config.get_datawarehouse()\n",
    "df = tdw.event('arxiv_papers')\n",
    "\n",
    "df = df[df['url'] == 'https://arxiv.org/abs/2403.18969']\n",
    "df"
   ]
  }
 ],
 "metadata": {
  "kernelspec": {
   "display_name": "Python 3",
   "language": "python",
   "name": "python3"
  },
  "language_info": {
   "codemirror_mode": {
    "name": "ipython",
    "version": 3
   },
   "file_extension": ".py",
   "mimetype": "text/x-python",
   "name": "python",
   "nbconvert_exporter": "python",
   "pygments_lexer": "ipython3",
   "version": "3.12.1"
  }
 },
 "nbformat": 4,
 "nbformat_minor": 5
}
