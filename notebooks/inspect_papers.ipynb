{
 "cells": [
  {
   "cell_type": "code",
   "metadata": {
    "ExecuteTime": {
     "end_time": "2024-04-16T19:51:23.688793Z",
     "start_time": "2024-04-16T19:51:23.647263Z"
    }
   },
   "source": [
    "import pandas as pd\n",
    "from tiny_data_wharehouse.data_wharehouse import DataWharehouse\n",
    "tdw = DataWharehouse()\n",
    "\n",
    "df = tdw.event('arxiv_papers')\n",
    "df.sort_values(by='published', ascending=False)"
   ],
   "outputs": [
    {
     "data": {
      "text/plain": [
       "                                                title  \\\n",
       "0   Personalized Collaborative Fine-Tuning for On-...   \n",
       "0   Can We Break Free from Strong Data Augmentatio...   \n",
       "0   Quenched Mixing Rates for Doubly Intermittent ...   \n",
       "0   Layered Uploading for Quantum Convolutional Ne...   \n",
       "0       Connectivity in Symmetric Semi-Algebraic Sets   \n",
       "..                                                ...   \n",
       "0          Wavelet basis for the Schrödinger equation   \n",
       "0                              Extended Gauge Sectors   \n",
       "0                 Coherent States of the SU(N) groups   \n",
       "0   From 2D conformal to 4D self-dual theories: qu...   \n",
       "0     A convenient setting for real analytic mappings   \n",
       "\n",
       "                                             abstract  \\\n",
       "0   We explore on-device self-supervised collabora...   \n",
       "0   Self-supervised learning (SSL) has emerged as ...   \n",
       "0   We study quenched mixing rates for two classes...   \n",
       "0   Continuing our analysis of quantum machine lea...   \n",
       "0   Semi-algebraic set is a subset of the real spa...   \n",
       "..                                                ...   \n",
       "0   The self-similar representation for the Schr\\\"...   \n",
       "0   Present and future prospects for the discovery...   \n",
       "0   Coherent states $(CS)$ of the $SU(N)$ groups a...   \n",
       "0   It is shown that self-dual theories generalize...   \n",
       "0   We present here \"the\" cartesian closed theory ...   \n",
       "\n",
       "                                        url                 published  \\\n",
       "0         http://arxiv.org/abs/2404.09753v1 2024-04-15 12:54:31+00:00   \n",
       "0         http://arxiv.org/abs/2404.09752v1 2024-04-15 12:53:48+00:00   \n",
       "0         http://arxiv.org/abs/2404.09751v1 2024-04-15 12:53:26+00:00   \n",
       "0         http://arxiv.org/abs/2404.09750v1 2024-04-15 12:51:51+00:00   \n",
       "0         http://arxiv.org/abs/2404.09749v1 2024-04-15 12:51:03+00:00   \n",
       "..                                      ...                       ...   \n",
       "0   http://arxiv.org/abs/quant-ph/9505013v1 1995-05-16 16:19:16+00:00   \n",
       "0     http://arxiv.org/abs/hep-ph/9501261v1 1995-01-10 21:40:12+00:00   \n",
       "0     http://arxiv.org/abs/hep-th/9208017v1 1992-08-05 16:17:28+00:00   \n",
       "0     http://arxiv.org/abs/hep-th/9207089v1 1992-07-27 16:02:00+00:00   \n",
       "0       http://arxiv.org/abs/math/9201254v1 1992-01-01 00:00:00+00:00   \n",
       "\n",
       "                tdw_timestamp  \n",
       "0  2024-04-16 07:58:47.803105  \n",
       "0  2024-04-16 07:58:41.714632  \n",
       "0  2024-04-16 07:59:27.946871  \n",
       "0  2024-04-16 07:59:05.931446  \n",
       "0  2024-04-16 07:59:32.811942  \n",
       "..                        ...  \n",
       "0  2024-04-03 13:26:18.561439  \n",
       "0  2024-03-22 13:39:19.963503  \n",
       "0  2024-03-08 17:30:26.390463  \n",
       "0  2024-04-03 13:26:25.458203  \n",
       "0  2024-04-03 13:26:24.026426  \n",
       "\n",
       "[12330 rows x 5 columns]"
      ],
      "text/html": [
       "<div>\n",
       "<style scoped>\n",
       "    .dataframe tbody tr th:only-of-type {\n",
       "        vertical-align: middle;\n",
       "    }\n",
       "\n",
       "    .dataframe tbody tr th {\n",
       "        vertical-align: top;\n",
       "    }\n",
       "\n",
       "    .dataframe thead th {\n",
       "        text-align: right;\n",
       "    }\n",
       "</style>\n",
       "<table border=\"1\" class=\"dataframe\">\n",
       "  <thead>\n",
       "    <tr style=\"text-align: right;\">\n",
       "      <th></th>\n",
       "      <th>title</th>\n",
       "      <th>abstract</th>\n",
       "      <th>url</th>\n",
       "      <th>published</th>\n",
       "      <th>tdw_timestamp</th>\n",
       "    </tr>\n",
       "  </thead>\n",
       "  <tbody>\n",
       "    <tr>\n",
       "      <th>0</th>\n",
       "      <td>Personalized Collaborative Fine-Tuning for On-...</td>\n",
       "      <td>We explore on-device self-supervised collabora...</td>\n",
       "      <td>http://arxiv.org/abs/2404.09753v1</td>\n",
       "      <td>2024-04-15 12:54:31+00:00</td>\n",
       "      <td>2024-04-16 07:58:47.803105</td>\n",
       "    </tr>\n",
       "    <tr>\n",
       "      <th>0</th>\n",
       "      <td>Can We Break Free from Strong Data Augmentatio...</td>\n",
       "      <td>Self-supervised learning (SSL) has emerged as ...</td>\n",
       "      <td>http://arxiv.org/abs/2404.09752v1</td>\n",
       "      <td>2024-04-15 12:53:48+00:00</td>\n",
       "      <td>2024-04-16 07:58:41.714632</td>\n",
       "    </tr>\n",
       "    <tr>\n",
       "      <th>0</th>\n",
       "      <td>Quenched Mixing Rates for Doubly Intermittent ...</td>\n",
       "      <td>We study quenched mixing rates for two classes...</td>\n",
       "      <td>http://arxiv.org/abs/2404.09751v1</td>\n",
       "      <td>2024-04-15 12:53:26+00:00</td>\n",
       "      <td>2024-04-16 07:59:27.946871</td>\n",
       "    </tr>\n",
       "    <tr>\n",
       "      <th>0</th>\n",
       "      <td>Layered Uploading for Quantum Convolutional Ne...</td>\n",
       "      <td>Continuing our analysis of quantum machine lea...</td>\n",
       "      <td>http://arxiv.org/abs/2404.09750v1</td>\n",
       "      <td>2024-04-15 12:51:51+00:00</td>\n",
       "      <td>2024-04-16 07:59:05.931446</td>\n",
       "    </tr>\n",
       "    <tr>\n",
       "      <th>0</th>\n",
       "      <td>Connectivity in Symmetric Semi-Algebraic Sets</td>\n",
       "      <td>Semi-algebraic set is a subset of the real spa...</td>\n",
       "      <td>http://arxiv.org/abs/2404.09749v1</td>\n",
       "      <td>2024-04-15 12:51:03+00:00</td>\n",
       "      <td>2024-04-16 07:59:32.811942</td>\n",
       "    </tr>\n",
       "    <tr>\n",
       "      <th>...</th>\n",
       "      <td>...</td>\n",
       "      <td>...</td>\n",
       "      <td>...</td>\n",
       "      <td>...</td>\n",
       "      <td>...</td>\n",
       "    </tr>\n",
       "    <tr>\n",
       "      <th>0</th>\n",
       "      <td>Wavelet basis for the Schrödinger equation</td>\n",
       "      <td>The self-similar representation for the Schr\\\"...</td>\n",
       "      <td>http://arxiv.org/abs/quant-ph/9505013v1</td>\n",
       "      <td>1995-05-16 16:19:16+00:00</td>\n",
       "      <td>2024-04-03 13:26:18.561439</td>\n",
       "    </tr>\n",
       "    <tr>\n",
       "      <th>0</th>\n",
       "      <td>Extended Gauge Sectors</td>\n",
       "      <td>Present and future prospects for the discovery...</td>\n",
       "      <td>http://arxiv.org/abs/hep-ph/9501261v1</td>\n",
       "      <td>1995-01-10 21:40:12+00:00</td>\n",
       "      <td>2024-03-22 13:39:19.963503</td>\n",
       "    </tr>\n",
       "    <tr>\n",
       "      <th>0</th>\n",
       "      <td>Coherent States of the SU(N) groups</td>\n",
       "      <td>Coherent states $(CS)$ of the $SU(N)$ groups a...</td>\n",
       "      <td>http://arxiv.org/abs/hep-th/9208017v1</td>\n",
       "      <td>1992-08-05 16:17:28+00:00</td>\n",
       "      <td>2024-03-08 17:30:26.390463</td>\n",
       "    </tr>\n",
       "    <tr>\n",
       "      <th>0</th>\n",
       "      <td>From 2D conformal to 4D self-dual theories: qu...</td>\n",
       "      <td>It is shown that self-dual theories generalize...</td>\n",
       "      <td>http://arxiv.org/abs/hep-th/9207089v1</td>\n",
       "      <td>1992-07-27 16:02:00+00:00</td>\n",
       "      <td>2024-04-03 13:26:25.458203</td>\n",
       "    </tr>\n",
       "    <tr>\n",
       "      <th>0</th>\n",
       "      <td>A convenient setting for real analytic mappings</td>\n",
       "      <td>We present here \"the\" cartesian closed theory ...</td>\n",
       "      <td>http://arxiv.org/abs/math/9201254v1</td>\n",
       "      <td>1992-01-01 00:00:00+00:00</td>\n",
       "      <td>2024-04-03 13:26:24.026426</td>\n",
       "    </tr>\n",
       "  </tbody>\n",
       "</table>\n",
       "<p>12330 rows × 5 columns</p>\n",
       "</div>"
      ]
     },
     "execution_count": 44,
     "metadata": {},
     "output_type": "execute_result"
    }
   ],
   "execution_count": 44
  },
  {
   "metadata": {
    "ExecuteTime": {
     "end_time": "2024-04-16T19:33:23.806886Z",
     "start_time": "2024-04-16T19:33:23.803569Z"
    }
   },
   "cell_type": "code",
   "source": "df.dtypes",
   "outputs": [
    {
     "data": {
      "text/plain": [
       "title                         object\n",
       "abstract                      object\n",
       "url                           object\n",
       "published        datetime64[ns, UTC]\n",
       "tdw_timestamp         datetime64[ns]\n",
       "dtype: object"
      ]
     },
     "execution_count": 4,
     "metadata": {},
     "output_type": "execute_result"
    }
   ],
   "execution_count": 4
  },
  {
   "metadata": {
    "ExecuteTime": {
     "end_time": "2024-04-16T19:51:26.178761Z",
     "start_time": "2024-04-16T19:51:26.165500Z"
    }
   },
   "cell_type": "code",
   "source": [
    "#df.groupby(df.published.dt.day, as_index=nnew_df = df.groupby(by=df.published.dt.date).agg({'published': 'count'})\n",
    "df.groupby(by=df.published.dt.date).agg({'published': 'count'})"
   ],
   "outputs": [
    {
     "data": {
      "text/plain": [
       "            published\n",
       "published            \n",
       "1992-01-01          1\n",
       "1992-07-27          1\n",
       "1992-08-05          1\n",
       "1995-01-10          1\n",
       "1995-05-16          1\n",
       "...               ...\n",
       "2024-04-11        281\n",
       "2024-04-12        247\n",
       "2024-04-13         32\n",
       "2024-04-14         41\n",
       "2024-04-15        217\n",
       "\n",
       "[2711 rows x 1 columns]"
      ],
      "text/html": [
       "<div>\n",
       "<style scoped>\n",
       "    .dataframe tbody tr th:only-of-type {\n",
       "        vertical-align: middle;\n",
       "    }\n",
       "\n",
       "    .dataframe tbody tr th {\n",
       "        vertical-align: top;\n",
       "    }\n",
       "\n",
       "    .dataframe thead th {\n",
       "        text-align: right;\n",
       "    }\n",
       "</style>\n",
       "<table border=\"1\" class=\"dataframe\">\n",
       "  <thead>\n",
       "    <tr style=\"text-align: right;\">\n",
       "      <th></th>\n",
       "      <th>published</th>\n",
       "    </tr>\n",
       "    <tr>\n",
       "      <th>published</th>\n",
       "      <th></th>\n",
       "    </tr>\n",
       "  </thead>\n",
       "  <tbody>\n",
       "    <tr>\n",
       "      <th>1992-01-01</th>\n",
       "      <td>1</td>\n",
       "    </tr>\n",
       "    <tr>\n",
       "      <th>1992-07-27</th>\n",
       "      <td>1</td>\n",
       "    </tr>\n",
       "    <tr>\n",
       "      <th>1992-08-05</th>\n",
       "      <td>1</td>\n",
       "    </tr>\n",
       "    <tr>\n",
       "      <th>1995-01-10</th>\n",
       "      <td>1</td>\n",
       "    </tr>\n",
       "    <tr>\n",
       "      <th>1995-05-16</th>\n",
       "      <td>1</td>\n",
       "    </tr>\n",
       "    <tr>\n",
       "      <th>...</th>\n",
       "      <td>...</td>\n",
       "    </tr>\n",
       "    <tr>\n",
       "      <th>2024-04-11</th>\n",
       "      <td>281</td>\n",
       "    </tr>\n",
       "    <tr>\n",
       "      <th>2024-04-12</th>\n",
       "      <td>247</td>\n",
       "    </tr>\n",
       "    <tr>\n",
       "      <th>2024-04-13</th>\n",
       "      <td>32</td>\n",
       "    </tr>\n",
       "    <tr>\n",
       "      <th>2024-04-14</th>\n",
       "      <td>41</td>\n",
       "    </tr>\n",
       "    <tr>\n",
       "      <th>2024-04-15</th>\n",
       "      <td>217</td>\n",
       "    </tr>\n",
       "  </tbody>\n",
       "</table>\n",
       "<p>2711 rows × 1 columns</p>\n",
       "</div>"
      ]
     },
     "execution_count": 45,
     "metadata": {},
     "output_type": "execute_result"
    }
   ],
   "execution_count": 45
  },
  {
   "metadata": {
    "ExecuteTime": {
     "end_time": "2024-04-16T20:00:03.111508Z",
     "start_time": "2024-04-16T20:00:03.004751Z"
    }
   },
   "cell_type": "code",
   "source": [
    "import pandas as pd\n",
    "new_df = df.groupby(by=df.published.dt.date).agg({'published': 'count'})\n",
    "new_df['date'] = new_df.index\n",
    "new_df['published_count'] = new_df['published']\n",
    "\n",
    "new_df.reset_index(drop=True, inplace=True)\n",
    "new_df = new_df.sort_values(by='date', ascending=False).head(14)\n",
    "new_df['date'] = pd.to_datetime(new_df['date'])\n",
    "new_df.reset_index(drop=True, inplace=True)\n",
    "new_df.plot(x='date', y='published')"
   ],
   "outputs": [
    {
     "data": {
      "text/plain": [
       "<Axes: xlabel='date'>"
      ]
     },
     "execution_count": 80,
     "metadata": {},
     "output_type": "execute_result"
    },
    {
     "data": {
      "text/plain": [
       "<Figure size 640x480 with 1 Axes>"
      ],
      "image/png": "[encoded data removed]"
     },
     "metadata": {},
     "output_type": "display_data"
    }
   ],
   "execution_count": 80
  }
 ],
 "metadata": {
  "kernelspec": {
   "display_name": "python312",
   "language": "python",
   "name": "python3"
  },
  "language_info": {
   "codemirror_mode": {
    "name": "ipython",
    "version": 3
   },
   "file_extension": ".py",
   "mimetype": "text/x-python",
   "name": "python",
   "nbconvert_exporter": "python",
   "pygments_lexer": "ipython3",
   "version": "3.12.1"
  }
 },
 "nbformat": 4,
 "nbformat_minor": 2
}
