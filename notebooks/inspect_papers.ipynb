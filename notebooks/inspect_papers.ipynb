{
 "cells": [
  {
   "cell_type": "code",
   "execution_count": 12,
   "id": "initial_id",
   "metadata": {
    "ExecuteTime": {
     "end_time": "2024-06-07T15:42:45.450432Z",
     "start_time": "2024-06-07T15:42:45.072441Z"
    },
    "collapsed": true
   },
   "outputs": [
    {
     "data": {
      "text/html": [
       "<div>\n",
       "<style scoped>\n",
       "    .dataframe tbody tr th:only-of-type {\n",
       "        vertical-align: middle;\n",
       "    }\n",
       "\n",
       "    .dataframe tbody tr th {\n",
       "        vertical-align: top;\n",
       "    }\n",
       "\n",
       "    .dataframe thead th {\n",
       "        text-align: right;\n",
       "    }\n",
       "</style>\n",
       "<table border=\"1\" class=\"dataframe\">\n",
       "  <thead>\n",
       "    <tr style=\"text-align: right;\">\n",
       "      <th></th>\n",
       "      <th>abstract_url</th>\n",
       "      <th>published</th>\n",
       "      <th>title</th>\n",
       "      <th>abstract</th>\n",
       "      <th>tdw_timestamp</th>\n",
       "      <th>tdw_uuid</th>\n",
       "    </tr>\n",
       "  </thead>\n",
       "  <tbody>\n",
       "    <tr>\n",
       "      <th>0</th>\n",
       "      <td>https://arxiv.org/abs/2408.03326</td>\n",
       "      <td>2024-08-06 17:59:44+00:00</td>\n",
       "      <td>LLaVA-OneVision: Easy Visual Task Transfer</td>\n",
       "      <td>We present LLaVA-OneVision, a family of open l...</td>\n",
       "      <td>2024-08-07 08:20:13.367967</td>\n",
       "      <td>2f4446c6-4e30-4060-b880-ed140458bf17</td>\n",
       "    </tr>\n",
       "    <tr>\n",
       "      <th>0</th>\n",
       "      <td>https://arxiv.org/abs/2408.03325</td>\n",
       "      <td>2024-08-06 17:58:53+00:00</td>\n",
       "      <td>CoverBench: A Challenging Benchmark for Comple...</td>\n",
       "      <td>There is a growing line of research on verifyi...</td>\n",
       "      <td>2024-08-07 08:21:05.493254</td>\n",
       "      <td>561dfdc7-ee61-481b-a498-fd7fa4063dff</td>\n",
       "    </tr>\n",
       "    <tr>\n",
       "      <th>0</th>\n",
       "      <td>https://arxiv.org/abs/2408.03324</td>\n",
       "      <td>2024-08-06 17:58:38+00:00</td>\n",
       "      <td>Eddington Ratios of Dust-obscured Quasars at $...</td>\n",
       "      <td>Dust-obscured quasars have been suspected as t...</td>\n",
       "      <td>2024-08-07 08:21:14.278502</td>\n",
       "      <td>e9023128-827c-4d9c-ba76-da9feb21dff1</td>\n",
       "    </tr>\n",
       "    <tr>\n",
       "      <th>0</th>\n",
       "      <td>https://arxiv.org/abs/2408.03323</td>\n",
       "      <td>2024-08-06 17:58:29+00:00</td>\n",
       "      <td>ClassiFIM: An Unsupervised Method To Detect Ph...</td>\n",
       "      <td>Estimation of the Fisher Information Metric (F...</td>\n",
       "      <td>2024-08-07 08:20:28.776427</td>\n",
       "      <td>9be96790-5807-43e4-b73a-e1df0658c96b</td>\n",
       "    </tr>\n",
       "    <tr>\n",
       "      <th>0</th>\n",
       "      <td>https://arxiv.org/abs/2408.03322</td>\n",
       "      <td>2024-08-06 17:58:18+00:00</td>\n",
       "      <td>Segment Anything in Medical Images and Videos:...</td>\n",
       "      <td>Recent advances in segmentation foundation mod...</td>\n",
       "      <td>2024-08-07 08:20:59.174877</td>\n",
       "      <td>b5ec1289-6e86-4eb8-9c70-2dc71a44dc91</td>\n",
       "    </tr>\n",
       "    <tr>\n",
       "      <th>...</th>\n",
       "      <td>...</td>\n",
       "      <td>...</td>\n",
       "      <td>...</td>\n",
       "      <td>...</td>\n",
       "      <td>...</td>\n",
       "      <td>...</td>\n",
       "    </tr>\n",
       "    <tr>\n",
       "      <th>0</th>\n",
       "      <td>https://arxiv.org/abs/funct-an/9406001</td>\n",
       "      <td>1994-06-07 16:03:58+00:00</td>\n",
       "      <td>Infinite Lexicographic Products of Triangular ...</td>\n",
       "      <td>Some new connections are given between linear ...</td>\n",
       "      <td>2024-05-24 07:22:40.275348</td>\n",
       "      <td>None</td>\n",
       "    </tr>\n",
       "    <tr>\n",
       "      <th>0</th>\n",
       "      <td>https://arxiv.org/abs/math/9304210</td>\n",
       "      <td>1993-04-01 00:00:00+00:00</td>\n",
       "      <td>Topology of homology manifolds</td>\n",
       "      <td>We construct examples of nonresolvable general...</td>\n",
       "      <td>2024-05-27 18:28:26.595036</td>\n",
       "      <td>None</td>\n",
       "    </tr>\n",
       "    <tr>\n",
       "      <th>0</th>\n",
       "      <td>https://arxiv.org/abs/cond-mat/9302025</td>\n",
       "      <td>1993-02-18 14:42:53+00:00</td>\n",
       "      <td>The Semiclassical Expansion of the t-J model</td>\n",
       "      <td>The Semiclassical Expansion of the t-J model. ...</td>\n",
       "      <td>2024-05-24 07:22:28.626116</td>\n",
       "      <td>None</td>\n",
       "    </tr>\n",
       "    <tr>\n",
       "      <th>0</th>\n",
       "      <td>https://arxiv.org/abs/nucl-th/9212011</td>\n",
       "      <td>1992-12-17 14:04:49+00:00</td>\n",
       "      <td>Colour Transparency in Hadronic Basis</td>\n",
       "      <td>The dynamics of nuclear transparency in hard n...</td>\n",
       "      <td>2024-05-26 13:58:34.872981</td>\n",
       "      <td>None</td>\n",
       "    </tr>\n",
       "    <tr>\n",
       "      <th>0</th>\n",
       "      <td>https://arxiv.org/abs/math/9201231</td>\n",
       "      <td>1991-07-24 00:47:07+00:00</td>\n",
       "      <td>A Gordon-Chevet type Inequality</td>\n",
       "      <td>We prove a new inequality for Gaussian process...</td>\n",
       "      <td>2024-06-12 21:27:19.168645</td>\n",
       "      <td>None</td>\n",
       "    </tr>\n",
       "  </tbody>\n",
       "</table>\n",
       "<p>33197 rows × 6 columns</p>\n",
       "</div>"
      ],
      "text/plain": [
       "                              abstract_url                 published  \\\n",
       "0         https://arxiv.org/abs/2408.03326 2024-08-06 17:59:44+00:00   \n",
       "0         https://arxiv.org/abs/2408.03325 2024-08-06 17:58:53+00:00   \n",
       "0         https://arxiv.org/abs/2408.03324 2024-08-06 17:58:38+00:00   \n",
       "0         https://arxiv.org/abs/2408.03323 2024-08-06 17:58:29+00:00   \n",
       "0         https://arxiv.org/abs/2408.03322 2024-08-06 17:58:18+00:00   \n",
       "..                                     ...                       ...   \n",
       "0   https://arxiv.org/abs/funct-an/9406001 1994-06-07 16:03:58+00:00   \n",
       "0       https://arxiv.org/abs/math/9304210 1993-04-01 00:00:00+00:00   \n",
       "0   https://arxiv.org/abs/cond-mat/9302025 1993-02-18 14:42:53+00:00   \n",
       "0    https://arxiv.org/abs/nucl-th/9212011 1992-12-17 14:04:49+00:00   \n",
       "0       https://arxiv.org/abs/math/9201231 1991-07-24 00:47:07+00:00   \n",
       "\n",
       "                                                title  \\\n",
       "0          LLaVA-OneVision: Easy Visual Task Transfer   \n",
       "0   CoverBench: A Challenging Benchmark for Comple...   \n",
       "0   Eddington Ratios of Dust-obscured Quasars at $...   \n",
       "0   ClassiFIM: An Unsupervised Method To Detect Ph...   \n",
       "0   Segment Anything in Medical Images and Videos:...   \n",
       "..                                                ...   \n",
       "0   Infinite Lexicographic Products of Triangular ...   \n",
       "0                      Topology of homology manifolds   \n",
       "0        The Semiclassical Expansion of the t-J model   \n",
       "0               Colour Transparency in Hadronic Basis   \n",
       "0                     A Gordon-Chevet type Inequality   \n",
       "\n",
       "                                             abstract  \\\n",
       "0   We present LLaVA-OneVision, a family of open l...   \n",
       "0   There is a growing line of research on verifyi...   \n",
       "0   Dust-obscured quasars have been suspected as t...   \n",
       "0   Estimation of the Fisher Information Metric (F...   \n",
       "0   Recent advances in segmentation foundation mod...   \n",
       "..                                                ...   \n",
       "0   Some new connections are given between linear ...   \n",
       "0   We construct examples of nonresolvable general...   \n",
       "0   The Semiclassical Expansion of the t-J model. ...   \n",
       "0   The dynamics of nuclear transparency in hard n...   \n",
       "0   We prove a new inequality for Gaussian process...   \n",
       "\n",
       "                tdw_timestamp                              tdw_uuid  \n",
       "0  2024-08-07 08:20:13.367967  2f4446c6-4e30-4060-b880-ed140458bf17  \n",
       "0  2024-08-07 08:21:05.493254  561dfdc7-ee61-481b-a498-fd7fa4063dff  \n",
       "0  2024-08-07 08:21:14.278502  e9023128-827c-4d9c-ba76-da9feb21dff1  \n",
       "0  2024-08-07 08:20:28.776427  9be96790-5807-43e4-b73a-e1df0658c96b  \n",
       "0  2024-08-07 08:20:59.174877  b5ec1289-6e86-4eb8-9c70-2dc71a44dc91  \n",
       "..                        ...                                   ...  \n",
       "0  2024-05-24 07:22:40.275348                                  None  \n",
       "0  2024-05-27 18:28:26.595036                                  None  \n",
       "0  2024-05-24 07:22:28.626116                                  None  \n",
       "0  2024-05-26 13:58:34.872981                                  None  \n",
       "0  2024-06-12 21:27:19.168645                                  None  \n",
       "\n",
       "[33197 rows x 6 columns]"
      ]
     },
     "execution_count": 12,
     "metadata": {},
     "output_type": "execute_result"
    },
    {
     "ename": "",
     "evalue": "",
     "output_type": "error",
     "traceback": [
      "\u001b[1;31mThe Kernel crashed while executing code in the current cell or a previous cell. \n",
      "\u001b[1;31mPlease review the code in the cell(s) to identify a possible cause of the failure. \n",
      "\u001b[1;31mClick <a href='https://aka.ms/vscodeJupyterKernelCrash'>here</a> for more info. \n",
      "\u001b[1;31mView Jupyter <a href='command:jupyter.viewOutput'>log</a> for further details."
     ]
    }
   ],
   "source": [
    "from tiny_data_warehouse import DataWarehouse\n",
    "tdw = DataWarehouse()\n",
    "df = tdw.event('arxiv_papers')\n",
    "df = df.sort_values('published', ascending=False)\n",
    "df\n"
   ]
  },
  {
   "cell_type": "code",
   "execution_count": 6,
   "id": "554f53af",
   "metadata": {},
   "outputs": [],
   "source": [
    "df.drop(columns=['url', 'pdf_url'], inplace=True)"
   ]
  },
  {
   "cell_type": "code",
   "execution_count": 11,
   "id": "90ff352b",
   "metadata": {},
   "outputs": [],
   "source": [
    "tdw.replace_df('arxiv_papers', df, dry_run=False)"
   ]
  },
  {
   "cell_type": "code",
   "execution_count": 8,
   "id": "3c31eafb",
   "metadata": {},
   "outputs": [
    {
     "data": {
      "text/plain": [
       "33197"
      ]
     },
     "execution_count": 8,
     "metadata": {},
     "output_type": "execute_result"
    }
   ],
   "source": [
    "len(df.index)o\n",
    "\n"
   ]
  },
  {
   "cell_type": "code",
   "execution_count": 4,
   "id": "73c2686b",
   "metadata": {},
   "outputs": [
    {
     "data": {
      "text/html": [
       "<div>\n",
       "<style scoped>\n",
       "    .dataframe tbody tr th:only-of-type {\n",
       "        vertical-align: middle;\n",
       "    }\n",
       "\n",
       "    .dataframe tbody tr th {\n",
       "        vertical-align: top;\n",
       "    }\n",
       "\n",
       "    .dataframe thead th {\n",
       "        text-align: right;\n",
       "    }\n",
       "</style>\n",
       "<table border=\"1\" class=\"dataframe\">\n",
       "  <thead>\n",
       "    <tr style=\"text-align: right;\">\n",
       "      <th></th>\n",
       "      <th>url</th>\n",
       "      <th>pdf_url</th>\n",
       "      <th>abstract_url</th>\n",
       "      <th>published</th>\n",
       "      <th>title</th>\n",
       "      <th>abstract</th>\n",
       "      <th>tdw_timestamp</th>\n",
       "      <th>tdw_uuid</th>\n",
       "    </tr>\n",
       "  </thead>\n",
       "  <tbody>\n",
       "    <tr>\n",
       "      <th>0</th>\n",
       "      <td>https://arxiv.org/abs/2202.13868</td>\n",
       "      <td>https://arxiv.org/abs/2202.13868.pdf</td>\n",
       "      <td>https://arxiv.org/abs/2202.13868</td>\n",
       "      <td>2022-02-23 01:15:54+00:00</td>\n",
       "      <td>A Real-World Implementation of Unbiased Lift-b...</td>\n",
       "      <td>In display ad auctions of Real-Time Bid-ding (...</td>\n",
       "      <td>2024-05-24 07:21:48.797128</td>\n",
       "      <td>None</td>\n",
       "    </tr>\n",
       "  </tbody>\n",
       "</table>\n",
       "</div>"
      ],
      "text/plain": [
       "                                url                               pdf_url  \\\n",
       "0  https://arxiv.org/abs/2202.13868  https://arxiv.org/abs/2202.13868.pdf   \n",
       "\n",
       "                       abstract_url                 published  \\\n",
       "0  https://arxiv.org/abs/2202.13868 2022-02-23 01:15:54+00:00   \n",
       "\n",
       "                                               title  \\\n",
       "0  A Real-World Implementation of Unbiased Lift-b...   \n",
       "\n",
       "                                            abstract  \\\n",
       "0  In display ad auctions of Real-Time Bid-ding (...   \n",
       "\n",
       "               tdw_timestamp tdw_uuid  \n",
       "0 2024-05-24 07:21:48.797128     None  "
      ]
     },
     "execution_count": 4,
     "metadata": {},
     "output_type": "execute_result"
    }
   ],
   "source": [
    "df = df[df['url'].str.contains('2202.13868')]\n",
    "df"
   ]
  },
  {
   "cell_type": "code",
   "execution_count": null,
   "id": "c9a8408d",
   "metadata": {},
   "outputs": [],
   "source": []
  },
  {
   "cell_type": "code",
   "execution_count": null,
   "id": "9138512c",
   "metadata": {},
   "outputs": [],
   "source": []
  },
  {
   "cell_type": "code",
   "execution_count": null,
   "id": "155d2bc1",
   "metadata": {},
   "outputs": [],
   "source": []
  },
  {
   "cell_type": "code",
   "execution_count": 2,
   "id": "6a46d4ef",
   "metadata": {},
   "outputs": [
    {
     "data": {
      "text/html": [
       "<div>\n",
       "<style scoped>\n",
       "    .dataframe tbody tr th:only-of-type {\n",
       "        vertical-align: middle;\n",
       "    }\n",
       "\n",
       "    .dataframe tbody tr th {\n",
       "        vertical-align: top;\n",
       "    }\n",
       "\n",
       "    .dataframe thead th {\n",
       "        text-align: right;\n",
       "    }\n",
       "</style>\n",
       "<table border=\"1\" class=\"dataframe\">\n",
       "  <thead>\n",
       "    <tr style=\"text-align: right;\">\n",
       "      <th></th>\n",
       "      <th>url</th>\n",
       "      <th>pdf_url</th>\n",
       "      <th>abstract_url</th>\n",
       "      <th>published</th>\n",
       "      <th>title</th>\n",
       "      <th>abstract</th>\n",
       "      <th>tdw_timestamp</th>\n",
       "      <th>tdw_uuid</th>\n",
       "    </tr>\n",
       "  </thead>\n",
       "  <tbody>\n",
       "    <tr>\n",
       "      <th>0</th>\n",
       "      <td>https://arxiv.org/abs/2407.20183</td>\n",
       "      <td>https://arxiv.org/abs/2407.20183.pdf</td>\n",
       "      <td>https://arxiv.org/abs/2407.20183</td>\n",
       "      <td>2024-07-29 17:12:40+00:00</td>\n",
       "      <td>MindSearch: Mimicking Human Minds Elicits Deep...</td>\n",
       "      <td>Information seeking and integration is a compl...</td>\n",
       "      <td>2024-07-30 11:14:35.643737</td>\n",
       "      <td>804fa414-ceb8-4669-b6f5-5270ad6bbad1</td>\n",
       "    </tr>\n",
       "  </tbody>\n",
       "</table>\n",
       "</div>"
      ],
      "text/plain": [
       "                                url                               pdf_url  \\\n",
       "0  https://arxiv.org/abs/2407.20183  https://arxiv.org/abs/2407.20183.pdf   \n",
       "\n",
       "                       abstract_url                 published  \\\n",
       "0  https://arxiv.org/abs/2407.20183 2024-07-29 17:12:40+00:00   \n",
       "\n",
       "                                               title  \\\n",
       "0  MindSearch: Mimicking Human Minds Elicits Deep...   \n",
       "\n",
       "                                            abstract  \\\n",
       "0  Information seeking and integration is a compl...   \n",
       "\n",
       "               tdw_timestamp                              tdw_uuid  \n",
       "0 2024-07-30 11:14:35.643737  804fa414-ceb8-4669-b6f5-5270ad6bbad1  "
      ]
     },
     "execution_count": 2,
     "metadata": {},
     "output_type": "execute_result"
    }
   ],
   "source": [
    "df[df['url'].str.contains('2407.20183')]"
   ]
  },
  {
   "cell_type": "code",
   "execution_count": 32,
   "id": "3170c7382f233993",
   "metadata": {
    "ExecuteTime": {
     "end_time": "2024-05-12T08:25:42.389426Z",
     "start_time": "2024-05-12T08:25:42.299214Z"
    }
   },
   "outputs": [],
   "source": [
    "#tdw.replace_df('arxiv_papers', df, dry_run=False)"
   ]
  },
  {
   "cell_type": "code",
   "execution_count": 4,
   "id": "ca59e16eeae75d6c",
   "metadata": {
    "ExecuteTime": {
     "end_time": "2024-05-20T05:18:12.725073Z",
     "start_time": "2024-05-20T05:18:12.664108Z"
    }
   },
   "outputs": [
    {
     "data": {
      "text/html": [
       "<div>\n",
       "<style scoped>\n",
       "    .dataframe tbody tr th:only-of-type {\n",
       "        vertical-align: middle;\n",
       "    }\n",
       "\n",
       "    .dataframe tbody tr th {\n",
       "        vertical-align: top;\n",
       "    }\n",
       "\n",
       "    .dataframe thead th {\n",
       "        text-align: right;\n",
       "    }\n",
       "</style>\n",
       "<table border=\"1\" class=\"dataframe\">\n",
       "  <thead>\n",
       "    <tr style=\"text-align: right;\">\n",
       "      <th></th>\n",
       "      <th>title</th>\n",
       "      <th>abstract</th>\n",
       "      <th>url</th>\n",
       "      <th>published</th>\n",
       "      <th>tdw_timestamp</th>\n",
       "    </tr>\n",
       "  </thead>\n",
       "  <tbody>\n",
       "    <tr>\n",
       "      <th>0</th>\n",
       "      <td>A Survey on Large Language Models from Concept...</td>\n",
       "      <td>Recent advancements in Large Language Models (...</td>\n",
       "      <td>https://arxiv.org/abs/2403.18969</td>\n",
       "      <td>2024-03-27 19:35:41+00:00</td>\n",
       "      <td>2024-03-31 16:02:04.808902</td>\n",
       "    </tr>\n",
       "  </tbody>\n",
       "</table>\n",
       "</div>"
      ],
      "text/plain": [
       "                                               title  \\\n",
       "0  A Survey on Large Language Models from Concept...   \n",
       "\n",
       "                                            abstract  \\\n",
       "0  Recent advancements in Large Language Models (...   \n",
       "\n",
       "                                url                 published  \\\n",
       "0  https://arxiv.org/abs/2403.18969 2024-03-27 19:35:41+00:00   \n",
       "\n",
       "               tdw_timestamp  \n",
       "0 2024-03-31 16:02:04.808902  "
      ]
     },
     "execution_count": 4,
     "metadata": {},
     "output_type": "execute_result"
    }
   ],
   "source": [
    "from state_of_the_art.config import config\n",
    "tdw = config.get_datawarehouse()\n",
    "df = tdw.event('arxiv_papers')\n",
    "\n",
    "df = df[df['url'] == 'https://arxiv.org/abs/2403.18969']\n",
    "df"
   ]
  }
 ],
 "metadata": {
  "kernelspec": {
   "display_name": "Python 3",
   "language": "python",
   "name": "python3"
  },
  "language_info": {
   "codemirror_mode": {
    "name": "ipython",
    "version": 3
   },
   "file_extension": ".py",
   "mimetype": "text/x-python",
   "name": "python",
   "nbconvert_exporter": "python",
   "pygments_lexer": "ipython3",
   "version": "3.12.1"
  }
 },
 "nbformat": 4,
 "nbformat_minor": 5
}
