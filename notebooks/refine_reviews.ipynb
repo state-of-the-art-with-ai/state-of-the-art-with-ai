{
 "cells": [
  {
   "cell_type": "code",
   "execution_count": 2,
   "metadata": {},
   "outputs": [
    {
     "data": {
      "text/html": [
       "<div>\n",
       "<style scoped>\n",
       "    .dataframe tbody tr th:only-of-type {\n",
       "        vertical-align: middle;\n",
       "    }\n",
       "\n",
       "    .dataframe tbody tr th {\n",
       "        vertical-align: top;\n",
       "    }\n",
       "\n",
       "    .dataframe thead th {\n",
       "        text-align: right;\n",
       "    }\n",
       "</style>\n",
       "<table border=\"1\" class=\"dataframe\">\n",
       "  <thead>\n",
       "    <tr style=\"text-align: right;\">\n",
       "      <th></th>\n",
       "      <th>insight</th>\n",
       "      <th>paper_id</th>\n",
       "      <th>score</th>\n",
       "      <th>tdw_timestamp</th>\n",
       "    </tr>\n",
       "  </thead>\n",
       "  <tbody>\n",
       "    <tr>\n",
       "      <th>0</th>\n",
       "      <td>The paper posits that smaller language models ...</td>\n",
       "      <td>https://arxiv.org/abs/2407.18248</td>\n",
       "      <td>0</td>\n",
       "      <td>2024-07-28 03:18:07.003285</td>\n",
       "    </tr>\n",
       "    <tr>\n",
       "      <th>0</th>\n",
       "      <td>This paper delves into improving the reasoning...</td>\n",
       "      <td>https://arxiv.org/abs/2407.18248</td>\n",
       "      <td>0</td>\n",
       "      <td>2024-07-28 03:23:55.451160</td>\n",
       "    </tr>\n",
       "    <tr>\n",
       "      <th>0</th>\n",
       "      <td>LLM internal states can differentiate between ...</td>\n",
       "      <td>https://arxiv.org/pdf/2407.03282</td>\n",
       "      <td>1</td>\n",
       "      <td>2024-07-28 09:54:30.113530</td>\n",
       "    </tr>\n",
       "    <tr>\n",
       "      <th>0</th>\n",
       "      <td>Using a probing estimator, LLMs can estimate h...</td>\n",
       "      <td>https://arxiv.org/pdf/2407.03282</td>\n",
       "      <td>1</td>\n",
       "      <td>2024-07-28 09:54:30.116872</td>\n",
       "    </tr>\n",
       "    <tr>\n",
       "      <th>0</th>\n",
       "      <td>Specific neurons within LLMs are sensitive to ...</td>\n",
       "      <td>https://arxiv.org/pdf/2407.03282</td>\n",
       "      <td>1</td>\n",
       "      <td>2024-07-28 09:54:30.119345</td>\n",
       "    </tr>\n",
       "  </tbody>\n",
       "</table>\n",
       "</div>"
      ],
      "text/plain": [
       "                                             insight  \\\n",
       "0  The paper posits that smaller language models ...   \n",
       "0  This paper delves into improving the reasoning...   \n",
       "0  LLM internal states can differentiate between ...   \n",
       "0  Using a probing estimator, LLMs can estimate h...   \n",
       "0  Specific neurons within LLMs are sensitive to ...   \n",
       "\n",
       "                           paper_id  score              tdw_timestamp  \n",
       "0  https://arxiv.org/abs/2407.18248      0 2024-07-28 03:18:07.003285  \n",
       "0  https://arxiv.org/abs/2407.18248      0 2024-07-28 03:23:55.451160  \n",
       "0  https://arxiv.org/pdf/2407.03282      1 2024-07-28 09:54:30.113530  \n",
       "0  https://arxiv.org/pdf/2407.03282      1 2024-07-28 09:54:30.116872  \n",
       "0  https://arxiv.org/pdf/2407.03282      1 2024-07-28 09:54:30.119345  "
      ]
     },
     "execution_count": 2,
     "metadata": {},
     "output_type": "execute_result"
    },
    {
     "ename": "",
     "evalue": "",
     "output_type": "error",
     "traceback": [
      "\u001b[1;31mThe Kernel crashed while executing code in the current cell or a previous cell. \n",
      "\u001b[1;31mPlease review the code in the cell(s) to identify a possible cause of the failure. \n",
      "\u001b[1;31mClick <a href='https://aka.ms/vscodeJupyterKernelCrash'>here</a> for more info. \n",
      "\u001b[1;31mView Jupyter <a href='command:jupyter.viewOutput'>log</a> for further details."
     ]
    }
   ],
   "source": [
    "\n",
    "from state_of_the_art.insight_extractor.insiths_table import InsightsTable\n",
    "\n",
    "\n",
    "it = InsightsTable()\n",
    "it.read()"
   ]
  },
  {
   "cell_type": "code",
   "execution_count": 3,
   "metadata": {},
   "outputs": [
    {
     "data": {
      "text/html": [
       "<div>\n",
       "<style scoped>\n",
       "    .dataframe tbody tr th:only-of-type {\n",
       "        vertical-align: middle;\n",
       "    }\n",
       "\n",
       "    .dataframe tbody tr th {\n",
       "        vertical-align: top;\n",
       "    }\n",
       "\n",
       "    .dataframe thead th {\n",
       "        text-align: right;\n",
       "    }\n",
       "</style>\n",
       "<table border=\"1\" class=\"dataframe\">\n",
       "  <thead>\n",
       "    <tr style=\"text-align: right;\">\n",
       "      <th></th>\n",
       "      <th>insight</th>\n",
       "      <th>paper_id</th>\n",
       "      <th>score</th>\n",
       "      <th>tdw_timestamp</th>\n",
       "    </tr>\n",
       "  </thead>\n",
       "  <tbody>\n",
       "    <tr>\n",
       "      <th>0</th>\n",
       "      <td>The paper posits that smaller language models ...</td>\n",
       "      <td>https://arxiv.org/abs/2407.18248</td>\n",
       "      <td>0</td>\n",
       "      <td>2024-07-28 03:18:07.003285</td>\n",
       "    </tr>\n",
       "    <tr>\n",
       "      <th>0</th>\n",
       "      <td>This paper delves into improving the reasoning...</td>\n",
       "      <td>https://arxiv.org/abs/2407.18248</td>\n",
       "      <td>0</td>\n",
       "      <td>2024-07-28 03:23:55.451160</td>\n",
       "    </tr>\n",
       "  </tbody>\n",
       "</table>\n",
       "</div>"
      ],
      "text/plain": [
       "                                             insight  \\\n",
       "0  The paper posits that smaller language models ...   \n",
       "0  This paper delves into improving the reasoning...   \n",
       "\n",
       "                           paper_id  score              tdw_timestamp  \n",
       "0  https://arxiv.org/abs/2407.18248      0 2024-07-28 03:18:07.003285  \n",
       "0  https://arxiv.org/abs/2407.18248      0 2024-07-28 03:23:55.451160  "
      ]
     },
     "execution_count": 3,
     "metadata": {},
     "output_type": "execute_result"
    }
   ],
   "source": [
    "\n",
    "it.add_insight(insight=it.clipboard_content(), paper_id='https://arxiv.org/abs/2407.18248', score=0)"
   ]
  },
  {
   "cell_type": "code",
   "execution_count": null,
   "metadata": {},
   "outputs": [],
   "source": []
  }
 ],
 "metadata": {
  "kernelspec": {
   "display_name": "python312",
   "language": "python",
   "name": "python3"
  },
  "language_info": {
   "codemirror_mode": {
    "name": "ipython",
    "version": 3
   },
   "file_extension": ".py",
   "mimetype": "text/x-python",
   "name": "python",
   "nbconvert_exporter": "python",
   "pygments_lexer": "ipython3",
   "version": "3.12.1"
  }
 },
 "nbformat": 4,
 "nbformat_minor": 2
}
