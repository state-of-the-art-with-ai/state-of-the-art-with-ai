{
 "cells": [
  {
   "cell_type": "code",
   "metadata": {
    "ExecuteTime": {
     "end_time": "2024-04-11T18:38:50.300373Z",
     "start_time": "2024-04-11T18:38:50.292197Z"
    }
   },
   "source": [
    "\n",
    "from tiny_data_wharehouse.data_wharehouse import DataWharehouse\n",
    "tdw = DataWharehouse()\n",
    "df = tdw.event('state_of_the_art_summary')\n",
    "\n",
    "df"
   ],
   "outputs": [
    {
     "data": {
      "text/plain": [
       "                                              summary   from_date     to_date  \\\n",
       "0   (0.9) Title: \"Generalization or Memorization: ...  2024-02-01  2024-02-24   \n",
       "0   (0.9) Title: \"Generalization or Memorization: ...  2024-02-01  2024-02-24   \n",
       "0   Results generated at 2024-03-02T17:28:04.54996...  2024-02-01  2024-02-24   \n",
       "0   Results generated at 2024-03-02T17:31:30.16322...  2024-02-01  2024-02-29   \n",
       "0   Results generated at 2024-03-08T17:32:51.22019...  2024-02-01  2024-02-29   \n",
       "..                                                ...         ...         ...   \n",
       "0   Results generated at 2024-04-07T11:30:15.64970...  2024-04-06  2024-04-07   \n",
       "0   Results generated at 2024-04-07T12:02:47.64375...  2024-04-04  2024-04-07   \n",
       "0   Results generated at 2024-04-09T22:49:15.60394...  2024-04-08  2024-04-09   \n",
       "0   Results generated at 2024-04-09T23:00:23.04718...  2024-04-08  2024-04-09   \n",
       "0   Results generated at 2024-04-10T08:39:45.51956...  2024-03-27  2024-04-10   \n",
       "\n",
       "                                               prompt  \\\n",
       "0   You are an world class expert in Data Science ...   \n",
       "0   You are an world class expert in Data Science ...   \n",
       "0   You are an world class expert in Data Science ...   \n",
       "0   You are an world class expert in Data Science ...   \n",
       "0   You are an world class expert in Data Science ...   \n",
       "..                                                ...   \n",
       "0   You are an world class expert in Data Science ...   \n",
       "0   You are an world class expert in Data Science ...   \n",
       "0   You are an world class expert in Data Science ...   \n",
       "0   You are an world class expert in Data Science ...   \n",
       "0   You are an world class expert in Data Science ...   \n",
       "\n",
       "                tdw_timestamp  \\\n",
       "0  2024-03-02 17:21:58.209553   \n",
       "0  2024-03-02 17:24:42.486002   \n",
       "0  2024-03-02 17:28:04.550151   \n",
       "0  2024-03-02 17:31:30.163459   \n",
       "0  2024-03-08 17:32:51.220311   \n",
       "..                        ...   \n",
       "0  2024-04-07 11:30:15.649965   \n",
       "0  2024-04-07 12:02:47.644013   \n",
       "0  2024-04-09 22:49:15.604164   \n",
       "0  2024-04-09 23:00:23.064257   \n",
       "0  2024-04-10 08:39:45.548883   \n",
       "\n",
       "                                      papers_analysed  \n",
       "0                                                None  \n",
       "0                                                None  \n",
       "0                                                None  \n",
       "0                                                None  \n",
       "0                                                None  \n",
       "..                                                ...  \n",
       "0                                                None  \n",
       "0                                                None  \n",
       "0                                                None  \n",
       "0   http://arxiv.org/abs/2404.05729v1\\nhttp://arxi...  \n",
       "0   http://arxiv.org/abs/2404.05729v1\\nhttp://arxi...  \n",
       "\n",
       "[63 rows x 6 columns]"
      ],
      "text/html": [
       "<div>\n",
       "<style scoped>\n",
       "    .dataframe tbody tr th:only-of-type {\n",
       "        vertical-align: middle;\n",
       "    }\n",
       "\n",
       "    .dataframe tbody tr th {\n",
       "        vertical-align: top;\n",
       "    }\n",
       "\n",
       "    .dataframe thead th {\n",
       "        text-align: right;\n",
       "    }\n",
       "</style>\n",
       "<table border=\"1\" class=\"dataframe\">\n",
       "  <thead>\n",
       "    <tr style=\"text-align: right;\">\n",
       "      <th></th>\n",
       "      <th>summary</th>\n",
       "      <th>from_date</th>\n",
       "      <th>to_date</th>\n",
       "      <th>prompt</th>\n",
       "      <th>tdw_timestamp</th>\n",
       "      <th>papers_analysed</th>\n",
       "    </tr>\n",
       "  </thead>\n",
       "  <tbody>\n",
       "    <tr>\n",
       "      <th>0</th>\n",
       "      <td>(0.9) Title: \"Generalization or Memorization: ...</td>\n",
       "      <td>2024-02-01</td>\n",
       "      <td>2024-02-24</td>\n",
       "      <td>You are an world class expert in Data Science ...</td>\n",
       "      <td>2024-03-02 17:21:58.209553</td>\n",
       "      <td>None</td>\n",
       "    </tr>\n",
       "    <tr>\n",
       "      <th>0</th>\n",
       "      <td>(0.9) Title: \"Generalization or Memorization: ...</td>\n",
       "      <td>2024-02-01</td>\n",
       "      <td>2024-02-24</td>\n",
       "      <td>You are an world class expert in Data Science ...</td>\n",
       "      <td>2024-03-02 17:24:42.486002</td>\n",
       "      <td>None</td>\n",
       "    </tr>\n",
       "    <tr>\n",
       "      <th>0</th>\n",
       "      <td>Results generated at 2024-03-02T17:28:04.54996...</td>\n",
       "      <td>2024-02-01</td>\n",
       "      <td>2024-02-24</td>\n",
       "      <td>You are an world class expert in Data Science ...</td>\n",
       "      <td>2024-03-02 17:28:04.550151</td>\n",
       "      <td>None</td>\n",
       "    </tr>\n",
       "    <tr>\n",
       "      <th>0</th>\n",
       "      <td>Results generated at 2024-03-02T17:31:30.16322...</td>\n",
       "      <td>2024-02-01</td>\n",
       "      <td>2024-02-29</td>\n",
       "      <td>You are an world class expert in Data Science ...</td>\n",
       "      <td>2024-03-02 17:31:30.163459</td>\n",
       "      <td>None</td>\n",
       "    </tr>\n",
       "    <tr>\n",
       "      <th>0</th>\n",
       "      <td>Results generated at 2024-03-08T17:32:51.22019...</td>\n",
       "      <td>2024-02-01</td>\n",
       "      <td>2024-02-29</td>\n",
       "      <td>You are an world class expert in Data Science ...</td>\n",
       "      <td>2024-03-08 17:32:51.220311</td>\n",
       "      <td>None</td>\n",
       "    </tr>\n",
       "    <tr>\n",
       "      <th>...</th>\n",
       "      <td>...</td>\n",
       "      <td>...</td>\n",
       "      <td>...</td>\n",
       "      <td>...</td>\n",
       "      <td>...</td>\n",
       "      <td>...</td>\n",
       "    </tr>\n",
       "    <tr>\n",
       "      <th>0</th>\n",
       "      <td>Results generated at 2024-04-07T11:30:15.64970...</td>\n",
       "      <td>2024-04-06</td>\n",
       "      <td>2024-04-07</td>\n",
       "      <td>You are an world class expert in Data Science ...</td>\n",
       "      <td>2024-04-07 11:30:15.649965</td>\n",
       "      <td>None</td>\n",
       "    </tr>\n",
       "    <tr>\n",
       "      <th>0</th>\n",
       "      <td>Results generated at 2024-04-07T12:02:47.64375...</td>\n",
       "      <td>2024-04-04</td>\n",
       "      <td>2024-04-07</td>\n",
       "      <td>You are an world class expert in Data Science ...</td>\n",
       "      <td>2024-04-07 12:02:47.644013</td>\n",
       "      <td>None</td>\n",
       "    </tr>\n",
       "    <tr>\n",
       "      <th>0</th>\n",
       "      <td>Results generated at 2024-04-09T22:49:15.60394...</td>\n",
       "      <td>2024-04-08</td>\n",
       "      <td>2024-04-09</td>\n",
       "      <td>You are an world class expert in Data Science ...</td>\n",
       "      <td>2024-04-09 22:49:15.604164</td>\n",
       "      <td>None</td>\n",
       "    </tr>\n",
       "    <tr>\n",
       "      <th>0</th>\n",
       "      <td>Results generated at 2024-04-09T23:00:23.04718...</td>\n",
       "      <td>2024-04-08</td>\n",
       "      <td>2024-04-09</td>\n",
       "      <td>You are an world class expert in Data Science ...</td>\n",
       "      <td>2024-04-09 23:00:23.064257</td>\n",
       "      <td>http://arxiv.org/abs/2404.05729v1\\nhttp://arxi...</td>\n",
       "    </tr>\n",
       "    <tr>\n",
       "      <th>0</th>\n",
       "      <td>Results generated at 2024-04-10T08:39:45.51956...</td>\n",
       "      <td>2024-03-27</td>\n",
       "      <td>2024-04-10</td>\n",
       "      <td>You are an world class expert in Data Science ...</td>\n",
       "      <td>2024-04-10 08:39:45.548883</td>\n",
       "      <td>http://arxiv.org/abs/2404.05729v1\\nhttp://arxi...</td>\n",
       "    </tr>\n",
       "  </tbody>\n",
       "</table>\n",
       "<p>63 rows × 6 columns</p>\n",
       "</div>"
      ]
     },
     "execution_count": 2,
     "metadata": {},
     "output_type": "execute_result"
    }
   ],
   "execution_count": 2
  },
  {
   "cell_type": "code",
   "execution_count": 11,
   "metadata": {},
   "outputs": [
    {
     "name": "stdout",
     "output_type": "stream",
     "text": [
      "Given that no events_folder was given, the default folder will be used: /Users/jean.machado/.tinyws/events\n"
     ]
    },
    {
     "data": {
      "text/plain": [
       "'2024-03-23'"
      ]
     },
     "execution_count": 11,
     "metadata": {},
     "output_type": "execute_result"
    }
   ],
   "source": [
    "from state_of_the_art.summaries import SummariesData\n",
    "\n",
    "SummariesData().get_latest_date_covered_by_summary()"
   ]
  },
  {
   "cell_type": "code",
   "execution_count": 13,
   "metadata": {},
   "outputs": [
    {
     "name": "stdout",
     "output_type": "stream",
     "text": [
      "Given that no events_folder was given, the default folder will be used: /Users/jean.machado/.tinyws/events\n",
      "Result1 ['http://arxiv.org/abs/2402.19473v1', 'http://arxiv.org/abs/2402.19462v1', 'http://arxiv.org/abs/2402.19449v1', 'http://arxiv.org/abs/2402.19414v1', 'http://arxiv.org/abs/2402.19348v1', 'http://arxiv.org/abs/2402.19371v1', 'http://arxiv.org/abs/2402.19402v1', 'http://arxiv.org/abs/2402.19396v1', 'http://arxiv.org/abs/2402.19455v1', 'http://arxiv.org/abs/2402.19479v1', 'http://arxiv.org/abs/2402.19474v1', 'http://arxiv.org/abs/2402.19469v1', 'http://arxiv.org/abs/2402.19463v1', 'http://arxiv.org/abs/2402.19456v1', 'http://arxiv.org/abs/2402.19441v1']\n",
      "Result2 ['http://arxiv.org/abs/2402.19473v1', 'http://arxiv.org/abs/2402.19462v1', 'http://arxiv.org/abs/2402.19449v1', 'http://arxiv.org/abs/2402.19348v1', 'http://arxiv.org/abs/2402.19402v1', 'http://arxiv.org/abs/2402.19414v1', 'http://arxiv.org/abs/2402.19455v1', 'http://arxiv.org/abs/2402.19396v1', 'http://arxiv.org/abs/2402.19371v1', 'http://arxiv.org/abs/2402.19479v1', 'http://arxiv.org/abs/2402.19474v1', 'http://arxiv.org/abs/2402.19469v1', 'http://arxiv.org/abs/2402.19463v1', 'http://arxiv.org/abs/2402.19456v1', 'http://arxiv.org/abs/2402.19441v1']\n"
     ]
    },
    {
     "data": {
      "text/plain": [
       "1.0"
      ]
     },
     "execution_count": 13,
     "metadata": {},
     "output_type": "execute_result"
    }
   ],
   "source": [
    "from state_of_the_art.papers import PapersComparer\n",
    "\n",
    "\n",
    "from tiny_data_wharehouse.data_wharehouse import DataWharehouse\n",
    "tdw = DataWharehouse()\n",
    "\n",
    "df = tdw.event('state_of_the_art_summary')\n",
    "data = df['summary'].to_list()[-1]\n",
    "\n",
    "result = PapersComparer().extract_papers_urls(data)\n",
    "\n",
    "df = tdw.event('state_of_the_art_summary')\n",
    "data2 = df['summary'].to_list()[-4]\n",
    "result2 = PapersComparer().extract_papers_urls(data2)\n",
    "\n",
    "print(\"Result1\", result)\n",
    "print(\"Result2\", result2)\n",
    "\n",
    "\n",
    "PapersComparer().overlap_size(result, result2)"
   ]
  },
  {
   "cell_type": "code",
   "execution_count": 11,
   "metadata": {},
   "outputs": [],
   "source": [
    "data = df['summary'].to_list()[-5]"
   ]
  }
 ],
 "metadata": {
  "kernelspec": {
   "display_name": "python312",
   "language": "python",
   "name": "python3"
  },
  "language_info": {
   "codemirror_mode": {
    "name": "ipython",
    "version": 3
   },
   "file_extension": ".py",
   "mimetype": "text/x-python",
   "name": "python",
   "nbconvert_exporter": "python",
   "pygments_lexer": "ipython3",
   "version": "3.12.1"
  }
 },
 "nbformat": 4,
 "nbformat_minor": 2
}
